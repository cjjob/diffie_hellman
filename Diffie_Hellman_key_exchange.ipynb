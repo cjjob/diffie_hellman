{
  "nbformat": 4,
  "nbformat_minor": 0,
  "metadata": {
    "colab": {
      "name": "Diffie-Hellman key exchange",
      "provenance": [],
      "authorship_tag": "ABX9TyN6woPq8oSu8veQ7xsimQlo",
      "include_colab_link": true
    },
    "kernelspec": {
      "name": "python3",
      "display_name": "Python 3"
    },
    "language_info": {
      "name": "python"
    }
  },
  "cells": [
    {
      "cell_type": "markdown",
      "metadata": {
        "id": "view-in-github",
        "colab_type": "text"
      },
      "source": [
        "<a href=\"https://colab.research.google.com/github/cjjob/diffie_hellman/blob/main/Diffie_Hellman_key_exchange.ipynb\" target=\"_parent\"><img src=\"https://colab.research.google.com/assets/colab-badge.svg\" alt=\"Open In Colab\"/></a>"
      ]
    },
    {
      "cell_type": "markdown",
      "metadata": {
        "id": "GnM2wbmccJI4"
      },
      "source": [
        "As described by [Wikipedia entry](https://en.wikipedia.org/wiki/Diffie%E2%80%93Hellman_key_exchange):\n",
        "> Diffie–Hellman key exchange establishes a shared secret between two parties that can be used for secret communication for exchanging data over a public network. An analogy illustrates the concept of public key exchange by using colors instead of very large numbers:"
      ]
    },
    {
      "cell_type": "code",
      "metadata": {
        "id": "dtoR5yt2cjw2"
      },
      "source": [
        "import math\n",
        "import random\n",
        "import sympy # For big primes (no idea if the library is appropriate.)"
      ],
      "execution_count": 23,
      "outputs": []
    },
    {
      "cell_type": "code",
      "metadata": {
        "colab": {
          "base_uri": "https://localhost:8080/"
        },
        "id": "t06-w7MzdpZF",
        "outputId": "88c40553-7c4d-4650-e114-fc1ac6ad940c"
      },
      "source": [
        "# Step 1:\n",
        "# Alice and Bob generate some big private prime numbers.\n",
        "\n",
        "def generate_prime(user_input):\n",
        "  # `user_input` is the number that our prime will be greater than.\n",
        "  # Basically, pick a big number.\n",
        "  return sympy.nextprime(\n",
        "      n = user_input,\n",
        "      ith=random.randint(100, 500) # Add some more (pseudo) randomness.\n",
        "  )\n",
        "\n",
        "\n",
        "alice_private_prime = generate_prime(342984028940)\n",
        "bob_private_prime = generate_prime(23429084208482340)\n",
        "print(f\"Alice's private key: {alice_private_prime}\")\n",
        "print(f\"Bob's private key: {bob_private_prime}\")"
      ],
      "execution_count": 19,
      "outputs": [
        {
          "output_type": "stream",
          "text": [
            "Alice's private key: 342984037717\n",
            "Bob's private key: 23429084208491737\n"
          ],
          "name": "stdout"
        }
      ]
    },
    {
      "cell_type": "code",
      "metadata": {
        "colab": {
          "base_uri": "https://localhost:8080/"
        },
        "id": "s_wD9tKBfg61",
        "outputId": "3d58cbe1-0d17-4dac-bd8f-e747b9bf131b"
      },
      "source": [
        "# Step 2:\n",
        "# Alice and Bob publicly declare some encryption parameters.\n",
        "# The details are technical. For a good discussion see:\n",
        "# https://security.stackexchange.com/questions/20079/diffie-hellman-key-exchange-securing-prime-and-base\n",
        "# Suffice it to say we want a (really) large prime, p, and a primitive root modulo p.\n",
        "# From here on, note:\n",
        "# The prime --> \"modulus\"\n",
        "# The primitive root modulo p --> \"base\"\n",
        "# Note, calculating primitive roots is heavy for a large prime. So, we will just pick a modulus and \n",
        "# use Wolfram Alpha to find potential bases.\n",
        "\n",
        "\n",
        "# 2.1 Get fat prime\n",
        "public_modulus = generate_prime(758964208420234)\n",
        "print(f\"Public modulus: {public_modulus}\")\n",
        "\n",
        "\n",
        "# 2.2 Copy ^ into Wolfram Alpha link:\n",
        "# https://www.wolframalpha.com/widgets/view.jsp?id=ef51422db7db201ebc03c8800f41ba99 \n",
        "# Pick one value for the base.\n",
        "public_base = 70\n",
        "print(f\"Public base: {public_base}\")"
      ],
      "execution_count": 21,
      "outputs": [
        {
          "output_type": "stream",
          "text": [
            "Public modulus: 758964208436297\n",
            "Public base: 70\n"
          ],
          "name": "stdout"
        }
      ]
    },
    {
      "cell_type": "code",
      "metadata": {
        "id": "gPNdN6Kcil6G"
      },
      "source": [
        "# Step 3: Share mixed keys\n",
        "# i.e Alice/Bob send each other:\n",
        "# base^(private_key) mod modulus\n",
        "# Computing this naively, i.e doing base^(private_key) would not be possible (the number is enormous).\n",
        "# Luckily we can use a trick:\n",
        "# https://en.wikipedia.org/wiki/Modular_exponentiation\n",
        "# In particular, the identity:"
      ],
      "execution_count": 22,
      "outputs": []
    },
    {
      "cell_type": "markdown",
      "metadata": {
        "id": "u25UKwiCnMHG"
      },
      "source": [
        "$(a \\cdot b) \\;\\mathrm{mod}\\; m = [(a \\;\\mathrm{mod}\\; m)\\cdot(b \\;\\mathrm{mod}\\; m)]\\;\\mathrm{mod}\\; m$"
      ]
    },
    {
      "cell_type": "code",
      "metadata": {
        "colab": {
          "base_uri": "https://localhost:8080/"
        },
        "id": "dF106QIvoJSP",
        "outputId": "cbefa2a0-6221-4fcf-b454-a09214e80155"
      },
      "source": [
        "# There are numerous algorithms that would work.\n",
        "# However, this is so common almost every `pow` function in any language takes an additional third argument, the modulus.\n",
        "alice_public_shared_key = pow(public_base, alice_private_prime, public_modulus)\n",
        "bob_public_shared_key = pow(public_base, bob_private_prime, public_modulus)\n",
        "\n",
        "print(f\"Alice share: {alice_public_shared_key}\")\n",
        "print(f\"Bob share: {bob_public_shared_key}\")"
      ],
      "execution_count": 24,
      "outputs": [
        {
          "output_type": "stream",
          "text": [
            "Alice share: 37232940717351\n",
            "Bob share: 445152695316944\n"
          ],
          "name": "stdout"
        }
      ]
    },
    {
      "cell_type": "code",
      "metadata": {
        "colab": {
          "base_uri": "https://localhost:8080/"
        },
        "id": "2q8IB7EQpahD",
        "outputId": "49c1ac45-bda9-4e2b-eec9-ffd0cc4f1a44"
      },
      "source": [
        "# Step 4:\n",
        "# Both can (independently, and in private) compute the shared secrete key.\n",
        "# (share^private_key) mod modulus\n",
        "alice_secret = pow(bob_public_shared_key, alice_private_prime, public_modulus)\n",
        "bob_secret = pow(alice_public_shared_key, bob_private_prime, public_modulus)\n",
        "\n",
        "assert alice_secret == bob_secret\n",
        "print(f\"Secret (successfully shared): {alice_secret}. Ssshhhh!\")"
      ],
      "execution_count": 27,
      "outputs": [
        {
          "output_type": "stream",
          "text": [
            "Secret (successfully shared): 330591620647367. Ssshhhh!\n"
          ],
          "name": "stdout"
        }
      ]
    },
    {
      "cell_type": "code",
      "metadata": {
        "id": "6rmt6Y11qqk5"
      },
      "source": [
        ""
      ],
      "execution_count": null,
      "outputs": []
    }
  ]
}